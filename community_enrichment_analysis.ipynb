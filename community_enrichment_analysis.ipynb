{
 "cells": [
  {
   "cell_type": "markdown",
   "metadata": {},
   "source": [
    "# Community GO Enrichment Analysis\n",
    "\n",
    "Here I perform Gene Ontology enrichment analysis on each of the 577 communities produced by the infomap community detection algorithm, detailed in the following notebook:\n",
    "\n",
    "https://github.com/wigasper/viral-mirna-database/blobl/master/exploratory_network_analysis.md\n",
    "\n",
    "I am interested in the what proportion of community members share any significantly enriched Gene Ontology terms. This may provide insight as to why target genes or communities of target genes ended up as targets of Epstein-Barr virus, and it also may potentially serve as validation for community detection algorithms. Some of this is fairly intuitive and to be expected: proteins that interact with each other tend to be part of the same biological processes and located in the same locations. Thus, it could be expected that each community will have significantly enriched GO terms, and many members of each community will share some of these significantly enriched GO terms.\n",
    "\n",
    "I used the [GOATools package](https://github.com/tanghaibao/goatools) with their [Run a Gene Ontology Enrichment Analysis notebook](https://github.com/tanghaibao/goatools/blob/master/notebooks/goea_nbt3102.ipynb) as a guide to help me get started and provide some code."
   ]
  },
  {
   "cell_type": "code",
   "execution_count": null,
   "metadata": {},
   "outputs": [],
   "source": [
    "import psycopg2\n",
    "from goatools.obo_parser import GODag\n",
    "from goatools.associations import read_ncbi_gene2go\n",
    "from goatools.test_data.genes_NCBI_9606_ProteinCoding import GENEID2NT as gene_id_2_nt\n",
    "from goatools.go_enrichment import GOEnrichmentStudy"
   ]
  },
  {
   "cell_type": "markdown",
   "metadata": {},
   "source": [
    "## Conversion of Gene Symbols to Gene IDs\n",
    "I conducted my [exploratory analysis](https://github.com/wigasper/viral-mirna-database/blobl/master/exploratory_network_analysis.md) using gene symbols, and I needed to convert these to gene IDs to play nicely with GOATools. To do this I used psycopg2 to query my database (which contains both symbols and gene IDs for genes) and made a dictionary to do the conversion."
   ]
  },
  {
   "cell_type": "code",
   "execution_count": 43,
   "metadata": {},
   "outputs": [],
   "source": [
    "# Create connection\n",
    "conn = psycopg2.connect(database=\"vir_mirna\", user=\"wkg\", \n",
    "                        password=\"apples\", host=\"localhost\")\n",
    "\n",
    "# Create cursor\n",
    "cursor = conn.cursor()\n",
    "\n",
    "# Query\n",
    "cursor.execute(\"SELECT interactor_a_symbol, interactor_a_gene_id \"\n",
    "               \"FROM protein_interaction ;\")\n",
    "\n",
    "results = cursor.fetchall()\n",
    "\n",
    "# Make dict\n",
    "gene_to_symbol = dict(results)\n",
    "\n",
    "# Query - I want to query both interactors for my conversion dict\n",
    "# to ensure that I am not missing anything\n",
    "cursor.execute(\"SELECT interactor_b_symbol, interactor_b_gene_id \"\n",
    "               \"FROM protein_interaction ;\")\n",
    "\n",
    "results = cursor.fetchall()\n",
    "\n",
    "# Update dict\n",
    "gene_to_symbol.update(dict(results))"
   ]
  },
  {
   "cell_type": "markdown",
   "metadata": {},
   "source": [
    "## Read in Community Data"
   ]
  },
  {
   "cell_type": "code",
   "execution_count": 46,
   "metadata": {},
   "outputs": [],
   "source": [
    "# Read in membership data and convert to symbols to gene IDs\n",
    "membership = []\n",
    "with open(\"./data/protein_community_membership.csv\", \"r\") as fp:\n",
    "    for line in fp:\n",
    "        if not line.startswith(\"symbol\"):\n",
    "            line = line.strip(\"\\n\")\n",
    "            line = line.split(\",\")\n",
    "            \n",
    "            if gene_to_symbol[line[0]] is not None:\n",
    "                membership.append([gene_to_symbol[line[0]], int(line[1])])\n",
    "\n",
    "# Extract community IDs\n",
    "communities = [comm[1] for comm in membership]\n",
    "# Remove duplicates\n",
    "communities = list(dict.fromkeys(communities))"
   ]
  },
  {
   "cell_type": "markdown",
   "metadata": {},
   "source": [
    "## GO Enrichment Analysis Setup"
   ]
  },
  {
   "cell_type": "code",
   "execution_count": null,
   "metadata": {},
   "outputs": [],
   "source": [
    "obodag = GODag(\"./data/go.obo\")\n",
    "geneid2gos = read_ncbi_gene2go(\"./data/gene2go\", taxids=[9606])\n",
    "\n",
    "goeaobj = GOEnrichmentStudy(\n",
    "        gene_id_2_nt.keys(), # human protein coding genes\n",
    "        geneid2gos, # geneid/GO associations\n",
    "        obodag, # Ontologies\n",
    "        propagate_counts = False,\n",
    "        alpha = 0.05, # default significance cut-off\n",
    "        methods = ['fdr_bh']) # defult multipletest correction method"
   ]
  },
  {
   "cell_type": "code",
   "execution_count": null,
   "metadata": {},
   "outputs": [],
   "source": [
    "# Run GO enrichment analysis for each community\n",
    "comm_enrich_scores = []\n",
    "for community in communities:\n",
    "    subset = [gene[0] for gene in membership if gene[1] == community]\n",
    "\n",
    "    # Exclude communities smaller than 5:\n",
    "    if len(subset) > 5:\n",
    "        goea_results = goeaobj.run_study(subset);\n",
    "        sig_results = [result for result in goea_results if result.p_fdr_bh < 0.05]\n",
    "\n",
    "        enriched_mem_ratios = []\n",
    "        for res in sig_results:\n",
    "            enriched_mem_ratios.append(res.ratio_in_study[0] / res.ratio_in_study[1])\n",
    "\n",
    "        if len(enriched_mem_ratios):\n",
    "            avg_enriched_ratio = sum(enriched_mem_ratios) / len(enriched_mem_ratios)\n",
    "            comm_enrich_scores.append([community, avg_enriched_ratio])"
   ]
  },
  {
   "cell_type": "markdown",
   "metadata": {},
   "source": [
    "## Community Enrichment Analysis Results\n",
    "\n",
    "First, let's see how many of our communities contain members with significantly enriched GO terms:"
   ]
  },
  {
   "cell_type": "code",
   "execution_count": 49,
   "metadata": {},
   "outputs": [
    {
     "name": "stdout",
     "output_type": "stream",
     "text": [
      "0.4067796610169492\n"
     ]
    }
   ],
   "source": [
    "print(str(len(comm_enrich_scores) / len(communities)))"
   ]
  },
  {
   "cell_type": "markdown",
   "metadata": {},
   "source": [
    "Not terribly promising, but I don't really have any basis for evaluation here. In the future I would like to try a number of different community detection algorithms with a variety of parameters to get a better idea for what this could look like. I also do not have enough experience to know whether or not a \"good\" community always has enriched GO terms - it intuitively seems like it might, but this might not be the case.\n",
    "\n",
    "We can use a kernel density plot to help visualize the results of performing GO enrichment analysis on each community. This graph shows the distribution of relative term enrichment frequencies, where a relative term enrichment frequency is the average frequency of community members that contained significantly enriched GO terms. As mentioned earlier, we might expect community members to contain similar GO terms, because proteins tend to interact with other proteins involved in the same processes.\n",
    "\n",
    "This basic method could be expanded and made significantly more robust in order to evaluate community detection algorithms. "
   ]
  },
  {
   "cell_type": "code",
   "execution_count": 52,
   "metadata": {},
   "outputs": [
    {
     "data": {
      "text/plain": [
       "<matplotlib.axes._subplots.AxesSubplot at 0x7eff9a033470>"
      ]
     },
     "execution_count": 52,
     "metadata": {},
     "output_type": "execute_result"
    },
    {
     "data": {
      "image/png": "[encoded data removed]",
      "text/plain": [
       "<Figure size 432x288 with 1 Axes>"
      ]
     },
     "metadata": {},
     "output_type": "display_data"
    }
   ],
   "source": [
    "import seaborn as sns\n",
    "\n",
    "freqs = [score[1] for score in comm_enrich_scores]\n",
    "\n",
    "sns.set(color_codes=True)\n",
    "sns.kdeplot(freqs, shade=True)"
   ]
  },
  {
   "cell_type": "markdown",
   "metadata": {},
   "source": [
    "Let's also find the frequency of communities where greater than 50% of community members shared significantly enriched GO terms:"
   ]
  },
  {
   "cell_type": "code",
   "execution_count": 53,
   "metadata": {},
   "outputs": [
    {
     "name": "stdout",
     "output_type": "stream",
     "text": [
      "0.0875\n"
     ]
    }
   ],
   "source": [
    "print(str(len([comm for comm in comm_enrich_scores if comm[1] >= .5]) / len(comm_enrich_scores)))"
   ]
  },
  {
   "cell_type": "markdown",
   "metadata": {},
   "source": [
    "There seems to be a lot of room for improvement here. In the future, I would like to test out additional community detection algorithms on different subsets of the protein interactome in order to see what kind of outcomes or normal for GO enrichment analysis of communities. For the scope of this project, which is primarily about database design and implementation and has a short time frame, this outcome is acceptable."
   ]
  }
 ],
 "metadata": {
  "kernelspec": {
   "display_name": "Python 3",
   "language": "python",
   "name": "python3"
  },
  "language_info": {
   "codemirror_mode": {
    "name": "ipython",
    "version": 3
   },
   "file_extension": ".py",
   "mimetype": "text/x-python",
   "name": "python",
   "nbconvert_exporter": "python",
   "pygments_lexer": "ipython3",
   "version": "3.6.8"
  }
 },
 "nbformat": 4,
 "nbformat_minor": 2
}
